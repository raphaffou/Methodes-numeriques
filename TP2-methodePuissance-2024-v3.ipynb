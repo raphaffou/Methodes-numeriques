{
 "cells": [
  {
   "cell_type": "markdown",
   "id": "8924a811",
   "metadata": {},
   "source": [
    "<center><font size=\"5\"> TP 2 : Approximation des valeurs propres </font> </center>"
   ]
  },
  {
   "cell_type": "markdown",
   "id": "6dad1dd4-550c-4825-936e-bb92bb1ca7ad",
   "metadata": {},
   "source": [
    "# Introduction"
   ]
  },
  {
   "cell_type": "markdown",
   "id": "074117cc-0502-40a0-b2e4-ad671c7f9b90",
   "metadata": {},
   "source": [
    "Les valeurs propres apparaissent fréquemment dans de nombreux contextes où l'on cherche à analyser la **stabilité des systèmes** ou à comprendre les modes de vibration dans des structures mécaniques. Elles jouent également un rôle crucial dans l'analyse des réseaux, comme dans l'algorithme **PageRank de Google**, ainsi qu'en **intelligence artificielle**, où elles sont utilisées pour le **clustering** et la **réduction de dimension** dans l'analyse de données.\n",
    "\n"
   ]
  },
  {
   "cell_type": "markdown",
   "id": "80231a32-1868-49e4-9255-6a0f25394126",
   "metadata": {},
   "source": [
    "Dans ce TP, nous allons implémenter et explorer la méthode de la puissance, une technique itérative utilisée pour calculer la valeur propre dominante (celle de plus grand module) et le vecteur propre associé d'une matrice carrée."
   ]
  },
  {
   "cell_type": "markdown",
   "id": "bd30fd58-b0b3-40cf-afed-adb8b82505d5",
   "metadata": {},
   "source": [
    "## 1. Méthode de la puissance\n",
    "\n",
    "La méthode de la puissance permet de calculer la plus grande valeur propre (en valeur absolue) d'une matrice \n",
    "$A$. On se propose d'utiliser cette méthode pour calculer cette valeur propre pour la matrice suivante:\n",
    "$$\n",
    "A_1 = \\begin{pmatrix}\n",
    "-4 & 14 & 0 \\\\\n",
    "-3 & 13 & 0 \\\\\n",
    "-1 & 0 & 2\n",
    "\\end{pmatrix}\n",
    "$$"
   ]
  },
  {
   "cell_type": "markdown",
   "id": "60fe332c-212a-47c6-9e11-b76342ee3d8f",
   "metadata": {},
   "source": [
    "### 1.1 Implémentation de la méthode de la puissance"
   ]
  },
  {
   "cell_type": "markdown",
   "id": "2cfdfb72-278d-496b-bfa4-32dd2abb8362",
   "metadata": {},
   "source": [
    "On rappelle l'algorithme suivant, vu en cours : \n",
    "\n",
    "<font size=\"3\">**Algorithme : Méthode de la puissance**</font><br>\n",
    "**Nécessite** : $A$ une matrice, $x_0$ un vecteur <br>\n",
    "$\\text{} \\qquad k \\leftarrow 0 $ <br>\n",
    "$\\text{} \\qquad$ **Répéter** <br>\n",
    "$\\text{} \\qquad \\qquad x_{k+1} \\leftarrow \\frac{Ax_k}{\\Vert Ax_k \\Vert_2}$ <br>\n",
    "$\\text{} \\qquad \\qquad \\lambda_{k+1} \\leftarrow\\ x_{k+1}^TAx_{k+1}$ <br>\n",
    "$\\text{} \\qquad \\qquad k \\leftarrow k + 1$ <br>\n",
    "$\\text{} \\qquad $ **jusqu'à convergence** <br>\n",
    "**Retourne** $\\lambda_{k+1}$, $x_{k+1}$ et $k$"
   ]
  },
  {
   "cell_type": "markdown",
   "id": "d3774214-ad72-4b19-8f5f-f4981169c330",
   "metadata": {},
   "source": [
    "- Quel est le critère de convergence ? A quel moment on arrête l'algorithme ?"
   ]
  },
  {
   "cell_type": "markdown",
   "id": "fc961b9a-7670-41d2-a4df-e6c52b0a3b3b",
   "metadata": {},
   "source": [
    "- Créez et affichez la matrice $A_1$"
   ]
  },
  {
   "cell_type": "code",
   "execution_count": null,
   "id": "17a43b16-55b7-440e-b1e1-8a8bf06006d4",
   "metadata": {},
   "outputs": [],
   "source": [
    "# Importation des librairies\n",
    "import numpy as np\n",
    "from numpy import linalg as la\n",
    "\n",
    "# Création et affichage de la martrice A1\n",
    "# ... A compléter ...\n",
    "A1 = ...\n",
    "print(A1)"
   ]
  },
  {
   "cell_type": "markdown",
   "id": "c2e31c02-9ea2-41d1-9b28-fb051f5e4c4a",
   "metadata": {},
   "source": [
    "\n",
    "- Écrivez une fonction <tt>lambda1, v1, niter = puissance(A, x0, tol, iterMax)</tt> qui implémente cette méthode. Les paramètres d'entrée sont : la matrice carrée **A**, le vecteur initiale **x0**, la tolérance pour la convergence **tol**, et le nombre d'itérations maximal **iterMax**.<br>La fonction doit retourner en sortie: la valeur propre de plus grand module **lambda1**, le vecteur propre associé $v1$ ainsi que le nombre d'itérations nécessaires **nIter**.\n",
    "\n",
    "- Testez votre fonction avec en entrée la matrice $A_1$ et les paramètres **x0**, **tol** et **iterMax** çi-dessous."
   ]
  },
  {
   "cell_type": "code",
   "execution_count": null,
   "id": "9da5d9fc-6764-4132-a77d-acf0bf229fdd",
   "metadata": {},
   "outputs": [],
   "source": [
    "# Fonction puissance\n",
    "\n",
    "def puissance(A, x0, tol, iterMax):\n",
    "    # ... A compléter ... \n",
    "    return lambda1, xk1, nIter\n",
    "    \n",
    "# Affichage de la plus grande valeur propre de la matrice A1, du vecteur propre associé et du nombre d'itérations en appelant la fonction puissance\n",
    "x0 = np.array([1,1,1])\n",
    "tol = 1e-8\n",
    "iterMax = 100\n",
    "# ... A compléter ...\n"
   ]
  },
  {
   "cell_type": "markdown",
   "id": "e2118b7e-8eae-495b-b138-4d013f6a21dc",
   "metadata": {},
   "source": [
    "- Comparez votre résultat avec celui de la fonction **np.linalg.eig()** de Python.\n",
    "  \n",
    "- Tracez la courbe de convergence en fonction du nombre d'itérations. **Astuce:** utilisez le log-scale pour améliorer la lisibilité des courbes d'erreur."
   ]
  },
  {
   "cell_type": "code",
   "execution_count": null,
   "id": "d6026ae1-f9e4-4977-96a4-1836956fd521",
   "metadata": {},
   "outputs": [],
   "source": [
    "# ... A compléter ..."
   ]
  },
  {
   "cell_type": "markdown",
   "id": "8c770d8a-7f5c-4015-b238-88136007d35e",
   "metadata": {},
   "source": [
    "### 1.2 Convergence théorique"
   ]
  },
  {
   "cell_type": "markdown",
   "id": "a747b289-8579-4c5e-ba99-631f7397491a",
   "metadata": {},
   "source": [
    "La vitesse de convergence de la méthode de la puissance dépend du **rapport spectral** entre la valeur propre dominante $ \\lambda_1 $ et la deuxième plus grande valeur propre $ \\lambda_2 $ (en valeur absolue). Ce rapport spectral est défini par :\n",
    "$$\n",
    "\\frac{|\\lambda_2|}{|\\lambda_1|}\n",
    "$$\n",
    "En d'autres termes, l'erreur après  $k$ itérations est approximativement :\n",
    "$$\n",
    "\\text{Erreur} \\approx \\left( \\frac{|\\lambda_2|}{|\\lambda_1|} \\right)^k\n",
    "$$\n",
    "Cela signifie que la méthode de la puissance converge de manière exponentielle, et plus le rapport spectral est proche de 0, plus la convergence est rapide.\n"
   ]
  },
  {
   "cell_type": "markdown",
   "id": "32446ae0-c471-4a4a-ac52-a9c28957cc0a",
   "metadata": {},
   "source": [
    "**A faire:** <BR>\n",
    "- Calculez la deuxieme plus grande valeur propre $\\lambda_2$ de la matrice $A_1$ en utilisant la fonction **np.linalg.eig** de Python.<br>\n",
    "- Utilisez $\\lambda_1$ et $\\lambda_2$ pour calculer la vitesse de convergence théorique et tracez la courbe en fonction du nombre d'itérations. \n",
    "- Comparez la courbe de convergence théorique avec la convergence réelle observée dans votre implémentation de la méthode de la puissance."
   ]
  },
  {
   "cell_type": "code",
   "execution_count": null,
   "id": "dbbacb3f-9d5f-4332-9975-f88ec1b6be8c",
   "metadata": {},
   "outputs": [],
   "source": [
    "import matplotlib.pyplot as plt\n",
    "# Calcul de la deuxieme plus grande valeur propre\n",
    "# ... A compléter ...\n",
    "\n",
    "# Courbes de convergence théorique et réelle de la methode de puissance\n",
    "# ... A compléter ..."
   ]
  },
  {
   "cell_type": "markdown",
   "id": "24133d61-4c9a-4290-9335-7695715987ea",
   "metadata": {},
   "source": [
    "## 2. Méthode de la puissance inverse"
   ]
  },
  {
   "cell_type": "markdown",
   "id": "b7c9c5b9-300e-49b7-a677-f11350c10330",
   "metadata": {},
   "source": [
    "**Rappel**: La méthode de la puissance inverse permet de calculer la plus petite valeur propre d'une matrice \n",
    "$A$. Pour cela, on applique la méthode de la puissance à la matrice $A^{-1}$ ."
   ]
  },
  {
   "cell_type": "markdown",
   "id": "0967b250-4c61-4ed7-9588-ab03c1618ce8",
   "metadata": {},
   "source": [
    "On rappelle l'algorithme suivant, vu en cours. \n",
    "\n",
    "<font size=\"4\">**Algorithme : Méthode de la puissance inverse**</font><br>\n",
    "**Nécessite** : $A$ une matrice, $x_0$ un vecteur <br>\n",
    "$\\text{} \\qquad k \\leftarrow 0 $ <br>\n",
    "$\\text{} \\qquad$ **Répéter** <br>\n",
    "$\\text{} \\qquad \\qquad x_{k+1} \\leftarrow \\frac{A^{-1}x_k}{\\Vert A^{-1}x_k \\Vert_2}$ <br>\n",
    "$\\text{} \\qquad \\qquad \\lambda_{k+1} \\leftarrow\\ x_{k+1}^TAx_{k+1}$ <br>\n",
    "$\\text{} \\qquad \\qquad k \\leftarrow k + 1$ <br>\n",
    "$\\text{} \\qquad $ **jusqu'à convergence** <br>\n",
    "**Retourne** $\\lambda_{k+1}$, $x_{k+1}$ et $k$"
   ]
  },
  {
   "cell_type": "markdown",
   "id": "6fb09b06-9c06-41c4-95a1-6d443786b7dd",
   "metadata": {},
   "source": [
    "- Pourquoi la méthode de la puissance inverse donne-t-elle la plus petite valeur propre de A ?"
   ]
  },
  {
   "cell_type": "markdown",
   "id": "01192b1e-45a7-4991-8c78-8cfeb80592e7",
   "metadata": {},
   "source": [
    "En général on ne calcule pas explicitement $A^{-1}$. Ainsi $A^{-1}x_k$ s'obtient en résolvant le système linéaire $Ay_k = xk$  en utilisant une factorisation de $A$, qui est réalisée au début de l'algorithme.  \n",
    "- Proposez une reformulation de l'algorithme qui ne nécessite pas d'inverser explicitement la matrice $A$.\n",
    "\n",
    "- Ecrivez une fonction <tt>lambda1, v1, niter = puissanceInverse(A, x0, tol, iterMax)</tt> qui implémente cette méthode. Les paramètres d'entrée sont : la matrice carrée **A**, le vecteur initiale **x0**, la tolérance pour la convergence **tol**, et le nombre maximal d'itérations **iterMax**. La fonction doit retourner en sortie: la plus grande valeur propre, le vecteur propre associé ainsi que le nombre d'itérations nécessaires **nIter**. Pour la factorisation de la matrice, nous utiliserons la **lu_factor** et **lu_solve**."
   ]
  },
  {
   "cell_type": "markdown",
   "id": "85ed00dd-7cd5-4245-8532-3455b328b4e4",
   "metadata": {},
   "source": [
    "- Testez votre fonction avec en entrée la matrice $A_1$ et les paramètres çi-dessous en distinguant 2 cas selon la valeur initiale $x0$. Que peut-on dire du choix de $x0$ ?"
   ]
  },
  {
   "cell_type": "code",
   "execution_count": null,
   "id": "3339ffcc-8cca-42b3-878d-70575f5abf29",
   "metadata": {},
   "outputs": [],
   "source": [
    "from scipy.linalg import lu_factor, lu_solve\n",
    "\n",
    "# Fonction puissance inverse\n",
    "def puissanceInverse(A, x0, tol, iterMax):\n",
    "\n",
    "    # Factorisation LU de la matrice (à ne faire qu'une seule fois)\n",
    "    # ... A compléter ... \n",
    "    LU, P = ...\n",
    "\n",
    "    # Initialisation du vecteur initial x0\n",
    "    # ... A compléter ...\n",
    "\n",
    "    # Iterations jusqu'au critère d'arrêt.\n",
    "    # ... A compléter ...\n",
    "    \n",
    "    return lambda1, v1, niter\n",
    "    \n",
    "# Affichage de la plus petite valeur propre de la matrice A1, du vecteur propre associé et du nombre d'itérations en appelant la fonction puissance\n",
    "tol = 1e-8\n",
    "iterMax = 100\n",
    "\n",
    "# cas 1: \n",
    "x0 = np.array([1,1,1])\n",
    "# ... A compléter ...\n",
    "\n",
    "# cas 2: \n",
    "x0 = np.array([0,1,1])\n",
    "# ... A compléter ..."
   ]
  },
  {
   "cell_type": "markdown",
   "id": "04908fd5-e8df-4c63-acc7-f5b12d752dbc",
   "metadata": {},
   "source": [
    "## 3. Exercice récapitulatif:  équation de Poisson en 1D\n",
    "\n",
    "On considère la matrice suivante issue de la discrétisation de l'Équation de Poisson en 1D:\n",
    "\n",
    "$\n",
    "A = \n",
    "\\begin{pmatrix}\n",
    "-2 & 1 & 0 & 0 & \\dots & 0 \\\\\n",
    "1 & -2 & 1 & 0 & \\dots & 0 \\\\\n",
    "0 & 1 & -2 & 1 & \\dots & 0 \\\\\n",
    "0 & 0 & 1 & -2 & \\dots & 0 \\\\\n",
    "\\vdots & \\vdots & \\vdots & \\vdots & \\ddots & \\vdots \\\\\n",
    "0 & 0 & 0 & 0 & \\dots & 1 \\\\\n",
    "0 & 0 & 0 & 0 & \\dots & -2\n",
    "\\end{pmatrix}\n",
    "$\n",
    "\n",
    "où A est une matrice de taille n x n"
   ]
  },
  {
   "cell_type": "markdown",
   "id": "38fa2bc6-054b-41a4-a494-7cccef1569d6",
   "metadata": {},
   "source": [
    "- Construisez la matrice pour n = 5 "
   ]
  },
  {
   "cell_type": "code",
   "execution_count": null,
   "id": "e1208820-de08-4ac0-b816-9ca71337dc93",
   "metadata": {},
   "outputs": [],
   "source": [
    "import numpy as np\n",
    "\n",
    "# Construction de la matrice issue de la discrétisation de l'Équation de Poisson en 1D\n",
    "def poisson_1d(n):\n",
    "    \n",
    "    # Initialiser une matrice n x n avec des zéros\n",
    "    A = np.zeros((n, n))\n",
    "    \n",
    "    # Remplir la diagonale principale\n",
    "    # ... A Completer ...\n",
    "    \n",
    "    # Remplir la diagonale adjacente inférieur\n",
    "    # ... A Completer ...\n",
    "        \n",
    "    # Remplir la diagonale adjacente supérieur   \n",
    "    # ... A Completer ...\n",
    "        \n",
    "    return A\n",
    "\n",
    "# Création de la matrice\n",
    "n = 5  # Taille de la grille\n",
    "A = poisson_1d(n)\n",
    "print(A)"
   ]
  },
  {
   "cell_type": "markdown",
   "id": "3f66f00e-cf57-44a6-8ee8-78c6650b349d",
   "metadata": {},
   "source": [
    "- Pour n = 5, utilisez la méthode de puissance pour calculer la plus grande valeur propre de $A$"
   ]
  },
  {
   "cell_type": "code",
   "execution_count": null,
   "id": "3d604a33-380e-4fdf-9af1-bd66ec4822c7",
   "metadata": {},
   "outputs": [],
   "source": [
    "# ... A Completer ..."
   ]
  },
  {
   "cell_type": "markdown",
   "id": "8592e2e7-97ed-48ca-b895-ef073c910382",
   "metadata": {},
   "source": [
    "- Pour n = 100:\n",
    "- Afficher les courbes de convergences de la méthode de puissance et la méthode de puissance inverse en fonction du nombre d'itérations, ainsi que la plus grande valeur propre.\n",
    "- Evaluez l'influence du vecteur initiale $x_0$ sur la convergence"
   ]
  },
  {
   "cell_type": "code",
   "execution_count": null,
   "id": "e3615e00-7f4f-4672-8826-6d4fe7ac6e25",
   "metadata": {},
   "outputs": [],
   "source": [
    "# ... A Completer ..."
   ]
  }
 ],
 "metadata": {
  "kernelspec": {
   "display_name": "Python 3 (ipykernel)",
   "language": "python",
   "name": "python3"
  },
  "language_info": {
   "codemirror_mode": {
    "name": "ipython",
    "version": 3
   },
   "file_extension": ".py",
   "mimetype": "text/x-python",
   "name": "python",
   "nbconvert_exporter": "python",
   "pygments_lexer": "ipython3",
   "version": "3.12.0"
  }
 },
 "nbformat": 4,
 "nbformat_minor": 5
}
